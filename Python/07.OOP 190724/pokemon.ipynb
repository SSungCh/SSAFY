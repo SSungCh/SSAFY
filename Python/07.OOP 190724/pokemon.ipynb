{
 "cells": [
  {
   "cell_type": "code",
   "execution_count": 23,
   "metadata": {},
   "outputs": [],
   "source": [
    "import random\n",
    "\n",
    "class Pikachu:  \n",
    "    \n",
    "    \n",
    "    def __init__(self, name):\n",
    "        self.name = name\n",
    "        self.level = 5\n",
    "        self.hp = self.level * random.randint(15, 20)\n",
    "        self.exp = 0\n",
    "        print(f'{self.name}의 HP가 {self.hp}로 설정되었습니다.')\n",
    "    \n",
    "    def bark(self):\n",
    "        return f'{self.name} : pikachu'\n",
    "    \n",
    "    def body_attack(self, other):\n",
    "        print(f'{self.name}이 {other.name}을 몸통박치기 공격을 했다....!')\n",
    "        if random.randint(0, 1):\n",
    "            other.hp -= other.level * 5\n",
    "            print(f'{other.name} 의 체력이 {other.hp}가 되었다....!')\n",
    "        else:\n",
    "            print('공격에 실패했다.')\n",
    "    \n",
    "    def thousond_volt(self, other):\n",
    "        print(f'{self.name}이 {other.name}을 십만볼트 공격을 했다....!')\n",
    "        if random.randint(0, 1):\n",
    "            other.hp -= other.level * 7\n",
    "            print(f'{other.name} 의 체력이 {other.hp}가 되었다....!')\n",
    "        else:\n",
    "            print('공격에 실패했다.')\n",
    "            \n",
    "    def __repr__(self):\n",
    "        return f'{self.name}:hp.{self.hp} lv.{self.level} exp.{self.exp}/100'"
   ]
  },
  {
   "cell_type": "code",
   "execution_count": 24,
   "metadata": {},
   "outputs": [
    {
     "name": "stdout",
     "output_type": "stream",
     "text": [
      "피카츄1의 HP가 95로 설정되었습니다.\n",
      "피카츄2의 HP가 90로 설정되었습니다.\n",
      "피카츄1이 피카츄2을 몸통박치기 공격을 했다....!\n",
      "공격에 실패했다.\n"
     ]
    }
   ],
   "source": [
    "p1 = Pikachu('피카츄1')\n",
    "p2 = Pikachu('피카츄2')\n",
    "p1.body_attack(p2)"
   ]
  },
  {
   "cell_type": "code",
   "execution_count": 26,
   "metadata": {},
   "outputs": [
    {
     "name": "stdout",
     "output_type": "stream",
     "text": [
      "==================게임이 시작되었습니다.=====================\n",
      "플레이어 1의 이름을 정해주세요: 피카츄\n",
      "플레이어 2의 이름을 정해주세요: 라이츄\n",
      "피카츄의 HP가 80로 설정되었습니다.\n",
      "라이츄의 HP가 80로 설정되었습니다.\n",
      "==================0=====================\n",
      "라이츄이 피카츄을 십만볼트 공격을 했다....!\n",
      "피카츄 의 체력이 45가 되었다....!\n",
      "피카츄:hp.45 lv.5 exp.0/100\n",
      "라이츄:hp.80 lv.5 exp.0/100\n",
      "==================1=====================\n",
      "피카츄이 라이츄을 몸통박치기 공격을 했다....!\n",
      "공격에 실패했다.\n",
      "피카츄:hp.45 lv.5 exp.0/100\n",
      "라이츄:hp.80 lv.5 exp.0/100\n",
      "==================2=====================\n",
      "라이츄이 피카츄을 십만볼트 공격을 했다....!\n",
      "피카츄 의 체력이 10가 되었다....!\n",
      "피카츄:hp.10 lv.5 exp.0/100\n",
      "라이츄:hp.80 lv.5 exp.0/100\n",
      "==================3=====================\n",
      "피카츄이 라이츄을 십만볼트 공격을 했다....!\n",
      "라이츄 의 체력이 45가 되었다....!\n",
      "피카츄:hp.10 lv.5 exp.0/100\n",
      "라이츄:hp.45 lv.5 exp.0/100\n",
      "==================4=====================\n",
      "라이츄이 피카츄을 십만볼트 공격을 했다....!\n",
      "공격에 실패했다.\n",
      "피카츄:hp.10 lv.5 exp.0/100\n",
      "라이츄:hp.45 lv.5 exp.0/100\n",
      "==================5=====================\n",
      "피카츄이 라이츄을 십만볼트 공격을 했다....!\n",
      "공격에 실패했다.\n",
      "피카츄:hp.10 lv.5 exp.0/100\n",
      "라이츄:hp.45 lv.5 exp.0/100\n",
      "==================6=====================\n",
      "라이츄이 피카츄을 십만볼트 공격을 했다....!\n",
      "피카츄 의 체력이 -25가 되었다....!\n",
      "피카츄:hp.-25 lv.5 exp.0/100\n",
      "라이츄:hp.45 lv.5 exp.0/100\n"
     ]
    }
   ],
   "source": [
    "import random\n",
    "\n",
    "turn = 0\n",
    "print('==================게임이 시작되었습니다.=====================')\n",
    "p1_name = input('플레이어 1의 이름을 정해주세요: ')\n",
    "p2_name = input('플레이어 2의 이름을 정해주세요: ')\n",
    "p1 = Pikachu(p1_name)\n",
    "p2 = Pikachu(p2_name)\n",
    "while True:\n",
    "   \n",
    "    print(f'=================={turn}=====================')\n",
    "    if turn % 2:\n",
    "        if random.randint(0, 1):\n",
    "            p1.body_attack(p2)\n",
    "        else:\n",
    "            p1.thousond_volt(p2)\n",
    "        print(p1)\n",
    "        print(p2)\n",
    "        turn += 1\n",
    "    else:\n",
    "        if random.randint(0, 1):\n",
    "            p2.body_attack(p1)\n",
    "        else:\n",
    "            p2.thousond_volt(p1)\n",
    "        print(p1)\n",
    "        print(p2)\n",
    "        turn += 1\n",
    "    if p1.hp < 0 or p2.hp < 0:\n",
    "        break"
   ]
  },
  {
   "cell_type": "code",
   "execution_count": null,
   "metadata": {},
   "outputs": [],
   "source": []
  }
 ],
 "metadata": {
  "kernelspec": {
   "display_name": "Python 3",
   "language": "python",
   "name": "python3"
  },
  "language_info": {
   "codemirror_mode": {
    "name": "ipython",
    "version": 3
   },
   "file_extension": ".py",
   "mimetype": "text/x-python",
   "name": "python",
   "nbconvert_exporter": "python",
   "pygments_lexer": "ipython3",
   "version": "3.7.3"
  },
  "nbTranslate": {
   "displayLangs": [
    "*"
   ],
   "hotkey": "alt-t",
   "langInMainMenu": true,
   "sourceLang": "en",
   "targetLang": "fr",
   "useGoogleTranslate": true
  },
  "toc": {
   "base_numbering": 1,
   "nav_menu": {},
   "number_sections": true,
   "sideBar": true,
   "skip_h1_title": false,
   "title_cell": "Table of Contents",
   "title_sidebar": "Contents",
   "toc_cell": false,
   "toc_position": {},
   "toc_section_display": true,
   "toc_window_display": false
  }
 },
 "nbformat": 4,
 "nbformat_minor": 2
}
